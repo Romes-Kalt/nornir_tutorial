{
 "cells": [
  {
   "cell_type": "markdown",
   "id": "c31db211",
   "metadata": {},
   "source": [
    "<a id=\"top_of_page\"></a>\n",
    "# NORNIR BASICS"
   ]
  },
  {
   "cell_type": "markdown",
   "id": "f2899696",
   "metadata": {},
   "source": [
    "Working through the initiliasation from Nornir documentation<br>\n",
    "https://nornir.readthedocs.io/en/latest/tutorial/index.html<br>\n",
    "(the error in **ln [14]** (on a freshly started kernel) is meant to be there) "
   ]
  },
  {
   "cell_type": "markdown",
   "id": "1a4296b4",
   "metadata": {},
   "source": [
    "\n",
    "## Table of contents:<br>"
   ]
  },
  {
   "cell_type": "markdown",
   "id": "97525714",
   "metadata": {},
   "source": [
    "[1 Initialiting Nornir](#initializing_nornir)<br>\n",
    "[2 Inventory](#inventory)<br>\n",
    "[3 Inheritance](#inheritance)<br>\n",
    "[4 Filtering](#filtering)<br>\n",
    "[5 Tasks](#tasks)<br>\n",
    "[6 Processing Results](#processing_results)<br>\n",
    "[7 Failed Tasks](#failed_tasks)<br>\n",
    "[8 Processors](#processors)<br>"
   ]
  },
  {
   "cell_type": "markdown",
   "id": "f718820b",
   "metadata": {},
   "source": [
    "<a id=\"initializing_nornir\"></a>\n",
    "## 1 Initializing Nornir"
   ]
  },
  {
   "cell_type": "code",
   "execution_count": 1,
   "id": "a3d170ca",
   "metadata": {},
   "outputs": [],
   "source": [
    "from nornir import InitNornir"
   ]
  },
  {
   "cell_type": "markdown",
   "id": "50aa29cb",
   "metadata": {},
   "source": [
    "### 1.1 Simple Nornir - Object creation with all files necessary in place"
   ]
  },
  {
   "cell_type": "code",
   "execution_count": 2,
   "id": "34074632",
   "metadata": {},
   "outputs": [],
   "source": [
    "nr = InitNornir(config_file=\"config.yaml\")\n",
    "# nr"
   ]
  },
  {
   "cell_type": "markdown",
   "id": "4d253a5f",
   "metadata": {},
   "source": [
    "### 1.2 Initialize nornir programmatically without a configuration file\n",
    "Two dictionaries must be defined: *runner* and *inventory*"
   ]
  },
  {
   "cell_type": "code",
   "execution_count": 3,
   "id": "91dba322",
   "metadata": {},
   "outputs": [],
   "source": [
    "nr = InitNornir(\n",
    "    runner={\n",
    "        \"plugin\": \"threaded\",\n",
    "        \"options\": {\n",
    "            \"num_workers\": 100,\n",
    "        },\n",
    "    },\n",
    "    inventory={\n",
    "        \"plugin\": \"SimpleInventory\",\n",
    "        \"options\": {\n",
    "            \"host_file\": \"inventory/hosts.yaml\",\n",
    "            \"group_file\": \"inventory/groups.yaml\"\n",
    "        },\n",
    "    },\n",
    ")\n",
    "# nr"
   ]
  },
  {
   "cell_type": "markdown",
   "id": "6f324a1e",
   "metadata": {},
   "source": [
    "### 1.3 Combination of both methods, e.g. to overwrite config.yaml value"
   ]
  },
  {
   "cell_type": "code",
   "execution_count": 4,
   "id": "b80553da",
   "metadata": {},
   "outputs": [
    {
     "data": {
      "text/plain": [
       "50"
      ]
     },
     "execution_count": 4,
     "metadata": {},
     "output_type": "execute_result"
    }
   ],
   "source": [
    "from nornir import InitNornir\n",
    "nr = InitNornir(\n",
    "    config_file=\"config.yaml\",\n",
    "    runner={\n",
    "        \"plugin\": \"threaded\",\n",
    "        \"options\": {\n",
    "            \"num_workers\": 50,     # in this config.yaml \"num_workers\": 100\n",
    "        },\n",
    "    },\n",
    ")\n",
    "nr.config.runner.options[\"num_workers\"]"
   ]
  },
  {
   "cell_type": "markdown",
   "id": "17b0eb76",
   "metadata": {},
   "source": [
    "[top](#top_of_page)"
   ]
  },
  {
   "cell_type": "markdown",
   "id": "2268e643",
   "metadata": {},
   "source": [
    "<a id=\"inventory\"></a>\n",
    "## 2 Inventory"
   ]
  },
  {
   "cell_type": "markdown",
   "id": "dc14521f",
   "metadata": {},
   "source": [
    "+  MOST important piece of nornir"
   ]
  },
  {
   "cell_type": "code",
   "execution_count": 5,
   "id": "a94b6e3f",
   "metadata": {},
   "outputs": [
    {
     "name": "stdout",
     "output_type": "stream",
     "text": [
      "{'name': 'str', 'connection_options': {'$connection_type': {'extras': {'$key': '$value'}, 'hostname': 'str', 'port': 'int', 'username': 'str', 'password': 'str', 'platform': 'str'}}, 'groups': ['$group_name'], 'data': {'$key': '$value'}, 'hostname': 'str', 'port': 'int', 'username': 'str', 'password': 'str', 'platform': 'str'}\n"
     ]
    }
   ],
   "source": [
    "from nornir.core.inventory import Host\n",
    "print(Host.schema())"
   ]
  },
  {
   "cell_type": "markdown",
   "id": "e2ad7bab",
   "metadata": {},
   "source": [
    "+ JSON object, make easier to read with:"
   ]
  },
  {
   "cell_type": "code",
   "execution_count": 6,
   "id": "50181ec5",
   "metadata": {},
   "outputs": [
    {
     "name": "stdout",
     "output_type": "stream",
     "text": [
      "{\n",
      "    \"name\": \"str\",\n",
      "    \"connection_options\": {\n",
      "        \"$connection_type\": {\n",
      "            \"extras\": {\n",
      "                \"$key\": \"$value\"\n",
      "            },\n",
      "            \"hostname\": \"str\",\n",
      "            \"port\": \"int\",\n",
      "            \"username\": \"str\",\n",
      "            \"password\": \"str\",\n",
      "            \"platform\": \"str\"\n",
      "        }\n",
      "    },\n",
      "    \"groups\": [\n",
      "        \"$group_name\"\n",
      "    ],\n",
      "    \"data\": {\n",
      "        \"$key\": \"$value\"\n",
      "    },\n",
      "    \"hostname\": \"str\",\n",
      "    \"port\": \"int\",\n",
      "    \"username\": \"str\",\n",
      "    \"password\": \"str\",\n",
      "    \"platform\": \"str\"\n",
      "}\n"
     ]
    }
   ],
   "source": [
    "import json\n",
    "print(json.dumps(Host.schema(), indent=4))"
   ]
  },
  {
   "cell_type": "markdown",
   "id": "5bacd8aa",
   "metadata": {},
   "source": [
    "+ hosts, groups **return** dictionaries, can be pretty printed as such"
   ]
  },
  {
   "cell_type": "code",
   "execution_count": 7,
   "id": "1ebaa449",
   "metadata": {},
   "outputs": [
    {
     "name": "stdout",
     "output_type": "stream",
     "text": [
      "Hosts:\n",
      "{'host1.bma': Host: host1.bma,\n",
      " 'host1.cmh': Host: host1.cmh,\n",
      " 'host2.bma': Host: host2.bma,\n",
      " 'host2.cmh': Host: host2.cmh,\n",
      " 'leaf00.bma': Host: leaf00.bma,\n",
      " 'leaf00.cmh': Host: leaf00.cmh,\n",
      " 'leaf01.bma': Host: leaf01.bma,\n",
      " 'leaf01.cmh': Host: leaf01.cmh,\n",
      " 'spine00.bma': Host: spine00.bma,\n",
      " 'spine00.cmh': Host: spine00.cmh,\n",
      " 'spine01.bma': Host: spine01.bma,\n",
      " 'spine01.cmh': Host: spine01.cmh}\n",
      "-----\n",
      "Groups:\n",
      "{'bma': Group: bma, 'cmh': Group: cmh, 'eu': Group: eu, 'global': Group: global}\n"
     ]
    }
   ],
   "source": [
    "import pprint\n",
    "print(\"Hosts:\")\n",
    "pprint.pprint(nr.inventory.hosts, indent=1)\n",
    "print(\"-----\\nGroups:\")\n",
    "pprint.pprint(nr.inventory.groups)"
   ]
  },
  {
   "cell_type": "markdown",
   "id": "cd9552c2",
   "metadata": {},
   "source": [
    "+ or tap in, e.g.:"
   ]
  },
  {
   "cell_type": "code",
   "execution_count": 8,
   "id": "eec75baa",
   "metadata": {},
   "outputs": [
    {
     "name": "stdout",
     "output_type": "stream",
     "text": [
      "site: bma\n",
      "role: leaf\n",
      "type: network_device\n",
      "asn: 65100\n",
      "domain: global.local\n"
     ]
    }
   ],
   "source": [
    "host = nr.inventory.hosts[\"leaf01.bma\"]\n",
    "for k,v in host.items():\n",
    "    print(f\"{k}: {v}\")"
   ]
  },
  {
   "cell_type": "markdown",
   "id": "3ba6e0a1",
   "metadata": {},
   "source": [
    "[top](#top_of_page)"
   ]
  },
  {
   "cell_type": "markdown",
   "id": "02a9684f",
   "metadata": {},
   "source": [
    "<a id=\"inheritance\"></a>\n",
    "## 3 Inheritance"
   ]
  },
  {
   "cell_type": "code",
   "execution_count": 9,
   "id": "104fe1f4",
   "metadata": {},
   "outputs": [],
   "source": [
    "# initilize Nornir again with all inventory files\n",
    "nr = InitNornir(config_file=\"config.yaml\")"
   ]
  },
  {
   "cell_type": "markdown",
   "id": "b489889f",
   "metadata": {},
   "source": [
    "### 3.1 Example leaf01.bma host"
   ]
  },
  {
   "cell_type": "markdown",
   "id": "85e71d04",
   "metadata": {},
   "source": [
    "Can be found in ./inventory/hosts.yaml as follows:<br>\n",
    "<code>...\n",
    "    leaf01.bma:\n",
    "      hostname: 127.0.0.1\n",
    "      username: vagrant\n",
    "      password: wrong_password\n",
    "      port: 12203\n",
    "      platform: junos\n",
    "      groups:\n",
    "          - bma\n",
    "      data:\n",
    "          site: bma\n",
    "          role: leaf\n",
    "          type: network_device\n",
    "</code>\n",
    "and can be tapped in with normal dictonary methods:"
   ]
  },
  {
   "cell_type": "markdown",
   "id": "9ec2b27c",
   "metadata": {},
   "source": [
    "Assign new **variable** with leaf01.bma"
   ]
  },
  {
   "cell_type": "code",
   "execution_count": 10,
   "id": "2dc584ea",
   "metadata": {},
   "outputs": [],
   "source": [
    "leaf01_bma = nr.inventory.hosts[\"leaf01.bma\"]"
   ]
  },
  {
   "cell_type": "markdown",
   "id": "2d6e072e",
   "metadata": {},
   "source": [
    "In ./inverntory/groups.yaml bma is defined as:<br>\n",
    "<code>\n",
    "global:\n",
    "    data:\n",
    "        domain: global.local\n",
    "        asn: 1\n",
    "eu:\n",
    "    data:\n",
    "        asn: 65100\n",
    "bma:\n",
    "    groups:\n",
    "        - eu\n",
    "        - global\n",
    "...\n",
    "</code>"
   ]
  },
  {
   "cell_type": "code",
   "execution_count": 11,
   "id": "2bca7601",
   "metadata": {},
   "outputs": [
    {
     "data": {
      "text/plain": [
       "'global.local'"
      ]
     },
     "execution_count": 11,
     "metadata": {},
     "output_type": "execute_result"
    }
   ],
   "source": [
    "leaf01_bma[\"domain\"]  # comes from the group `global` and has therefore this \"domain\" value"
   ]
  },
  {
   "cell_type": "code",
   "execution_count": 12,
   "id": "090f9e0c",
   "metadata": {},
   "outputs": [
    {
     "data": {
      "text/plain": [
       "65100"
      ]
     },
     "execution_count": 12,
     "metadata": {},
     "output_type": "execute_result"
    }
   ],
   "source": [
    "leaf01_bma[\"asn\"]  # comes from group `eu` and has therefore this \"asn\" value"
   ]
  },
  {
   "cell_type": "markdown",
   "id": "22e1a02d",
   "metadata": {},
   "source": [
    "---"
   ]
  },
  {
   "cell_type": "markdown",
   "id": "80456d04",
   "metadata": {},
   "source": [
    "### 3.2 Example leaf01.cmh host"
   ]
  },
  {
   "cell_type": "markdown",
   "id": "926368e3",
   "metadata": {},
   "source": [
    "+ If neither the host nor the parents have a specific value for a key, values in defaults will be returned."
   ]
  },
  {
   "cell_type": "markdown",
   "id": "ec295694",
   "metadata": {},
   "source": [
    "<code>\n",
    "leaf01.cmh:\n",
    "    hostname: 127.0.0.1\n",
    "    username: vagrant\n",
    "    password: \"\"\n",
    "    port: 12203\n",
    "    platform: junos\n",
    "    groups:\n",
    "        - cmh\n",
    "    data:\n",
    "        site: cmh\n",
    "        role: leaf\n",
    "        type: network_device\n",
    "        asn: 65101\n",
    "</code>"
   ]
  },
  {
   "cell_type": "code",
   "execution_count": 13,
   "id": "394e16e1",
   "metadata": {},
   "outputs": [
    {
     "data": {
      "text/plain": [
       "'acme.local'"
      ]
     },
     "execution_count": 13,
     "metadata": {},
     "output_type": "execute_result"
    }
   ],
   "source": [
    "leaf01_cmh = nr.inventory.hosts[\"leaf01.cmh\"]\n",
    "leaf01_cmh[\"domain\"]  # comes from defaults"
   ]
  },
  {
   "cell_type": "markdown",
   "id": "9f2fefda",
   "metadata": {},
   "source": [
    "### 3.3 Non-existent keys"
   ]
  },
  {
   "cell_type": "markdown",
   "id": "98602a87",
   "metadata": {},
   "source": [
    "+ python throws normal error, if the key is not existing"
   ]
  },
  {
   "cell_type": "code",
   "execution_count": 14,
   "id": "3096e4b4",
   "metadata": {},
   "outputs": [
    {
     "ename": "KeyError",
     "evalue": "'wrong_key'",
     "output_type": "error",
     "traceback": [
      "\u001b[1;31m---------------------------------------------------------------------------\u001b[0m",
      "\u001b[1;31mKeyError\u001b[0m                                  Traceback (most recent call last)",
      "Input \u001b[1;32mIn [14]\u001b[0m, in \u001b[0;36m<cell line: 1>\u001b[1;34m()\u001b[0m\n\u001b[1;32m----> 1\u001b[0m \u001b[43mleaf01_cmh\u001b[49m\u001b[43m[\u001b[49m\u001b[38;5;124;43m\"\u001b[39;49m\u001b[38;5;124;43mwrong_key\u001b[39;49m\u001b[38;5;124;43m\"\u001b[39;49m\u001b[43m]\u001b[49m\n",
      "File \u001b[1;32m~\\Python\\anaconda\\envs\\nornir_env\\lib\\site-packages\\nornir\\core\\inventory.py:350\u001b[0m, in \u001b[0;36mHost.__getitem__\u001b[1;34m(self, item)\u001b[0m\n\u001b[0;32m    348\u001b[0m \u001b[38;5;28;01mdef\u001b[39;00m \u001b[38;5;21m__getitem__\u001b[39m(\u001b[38;5;28mself\u001b[39m, item: \u001b[38;5;28mstr\u001b[39m) \u001b[38;5;241m-\u001b[39m\u001b[38;5;241m>\u001b[39m Any:\n\u001b[0;32m    349\u001b[0m     \u001b[38;5;28;01mtry\u001b[39;00m:\n\u001b[1;32m--> 350\u001b[0m         \u001b[38;5;28;01mreturn\u001b[39;00m \u001b[38;5;28;43mself\u001b[39;49m\u001b[38;5;241;43m.\u001b[39;49m\u001b[43mdata\u001b[49m\u001b[43m[\u001b[49m\u001b[43mitem\u001b[49m\u001b[43m]\u001b[49m\n\u001b[0;32m    352\u001b[0m     \u001b[38;5;28;01mexcept\u001b[39;00m \u001b[38;5;167;01mKeyError\u001b[39;00m:\n\u001b[0;32m    353\u001b[0m         \u001b[38;5;28;01mfor\u001b[39;00m g \u001b[38;5;129;01min\u001b[39;00m \u001b[38;5;28mself\u001b[39m\u001b[38;5;241m.\u001b[39mextended_groups():\n",
      "\u001b[1;31mKeyError\u001b[0m: 'wrong_key'"
     ]
    }
   ],
   "source": [
    "leaf01_cmh[\"wrong_key\"]"
   ]
  },
  {
   "cell_type": "code",
   "execution_count": 15,
   "id": "48d20a14",
   "metadata": {},
   "outputs": [
    {
     "name": "stdout",
     "output_type": "stream",
     "text": [
      "Couldn't find key: 'wrong_key'\n"
     ]
    }
   ],
   "source": [
    "# can be caught as usual:\n",
    "try:\n",
    "    leaf01_cmh[\"wrong_key\"]\n",
    "except KeyError as e:\n",
    "    print(f\"Couldn't find key: {e}\")"
   ]
  },
  {
   "cell_type": "markdown",
   "id": "682d167a",
   "metadata": {},
   "source": [
    "+ also when using this_nr.**data** the key won't be found"
   ]
  },
  {
   "cell_type": "code",
   "execution_count": 16,
   "id": "55e641dc",
   "metadata": {},
   "outputs": [
    {
     "data": {
      "text/plain": [
       "{'site': 'cmh', 'role': 'leaf', 'type': 'network_device', 'asn': 65101}"
      ]
     },
     "execution_count": 16,
     "metadata": {},
     "output_type": "execute_result"
    }
   ],
   "source": [
    "leaf01_cmh.data"
   ]
  },
  {
   "cell_type": "code",
   "execution_count": 17,
   "id": "e6ed56dc",
   "metadata": {},
   "outputs": [
    {
     "name": "stdout",
     "output_type": "stream",
     "text": [
      "Couldn't find key: 'domain'\n"
     ]
    }
   ],
   "source": [
    "try:\n",
    "    leaf01_cmh.data[\"domain\"]\n",
    "except KeyError as e:\n",
    "    print(f\"Couldn't find key: {e}\")"
   ]
  },
  {
   "cell_type": "markdown",
   "id": "2c189168",
   "metadata": {},
   "source": [
    "[top](#top_of_page)"
   ]
  },
  {
   "cell_type": "markdown",
   "id": "fe7b1ede",
   "metadata": {},
   "source": [
    "<a id=\"filtering\"></a>\n",
    "## 4 Filtering"
   ]
  },
  {
   "cell_type": "markdown",
   "id": "d80b2b9f",
   "metadata": {},
   "source": [
    "### 4.1 Basic filtering by Key-Value pairs"
   ]
  },
  {
   "cell_type": "markdown",
   "id": "b0b56b57",
   "metadata": {},
   "source": [
    "+ operate on groups of hosts"
   ]
  },
  {
   "cell_type": "markdown",
   "id": "8978b5ab",
   "metadata": {},
   "source": [
    "#### 4.1.1 One Pair"
   ]
  },
  {
   "cell_type": "code",
   "execution_count": 18,
   "id": "de530c77",
   "metadata": {},
   "outputs": [
    {
     "name": "stdout",
     "output_type": "stream",
     "text": [
      "dict_keys(['host1.cmh', 'host2.cmh', 'spine00.cmh', 'spine01.cmh', 'leaf00.cmh', 'leaf01.cmh'])\n"
     ]
    }
   ],
   "source": [
    "print(nr.filter(site=\"cmh\").inventory.hosts.keys())"
   ]
  },
  {
   "cell_type": "markdown",
   "id": "1341ed96",
   "metadata": {},
   "source": [
    "#### 4.1.2 Multiple Pairs"
   ]
  },
  {
   "cell_type": "code",
   "execution_count": 19,
   "id": "a080c02b",
   "metadata": {},
   "outputs": [
    {
     "name": "stdout",
     "output_type": "stream",
     "text": [
      "dict_keys(['spine00.cmh', 'spine01.cmh'])\n"
     ]
    }
   ],
   "source": [
    "print(nr.filter(site=\"cmh\", role=\"spine\").inventory.hosts.keys())"
   ]
  },
  {
   "cell_type": "markdown",
   "id": "c3ea19d3",
   "metadata": {},
   "source": [
    "#### 4.1.3 Culmulative Method"
   ]
  },
  {
   "cell_type": "code",
   "execution_count": 20,
   "id": "9f5777b8",
   "metadata": {},
   "outputs": [
    {
     "name": "stdout",
     "output_type": "stream",
     "text": [
      "dict_keys(['spine00.cmh', 'spine01.cmh'])\n"
     ]
    }
   ],
   "source": [
    "print(nr.filter(site=\"cmh\").filter(role=\"spine\").inventory.hosts.keys())"
   ]
  },
  {
   "cell_type": "markdown",
   "id": "8b3d1ede",
   "metadata": {},
   "source": [
    "#### 4.1.4 Per assigning variable and filter this"
   ]
  },
  {
   "cell_type": "code",
   "execution_count": 21,
   "id": "2b1e0b33",
   "metadata": {},
   "outputs": [
    {
     "name": "stdout",
     "output_type": "stream",
     "text": [
      "dict_keys(['host1.cmh', 'host2.cmh', 'spine00.cmh', 'spine01.cmh', 'leaf00.cmh', 'leaf01.cmh'])\n"
     ]
    }
   ],
   "source": [
    "cmh = nr.filter(site=\"cmh\")\n",
    "print(cmh.inventory.hosts.keys())"
   ]
  },
  {
   "cell_type": "code",
   "execution_count": 22,
   "id": "df14bb54",
   "metadata": {},
   "outputs": [
    {
     "name": "stdout",
     "output_type": "stream",
     "text": [
      "dict_keys(['spine00.cmh', 'spine01.cmh'])\n",
      "dict_keys(['leaf00.cmh', 'leaf01.cmh'])\n"
     ]
    }
   ],
   "source": [
    "print(cmh.filter(role=\"spine\").inventory.hosts.keys())\n",
    "print(cmh.filter(role=\"leaf\").inventory.hosts.keys())"
   ]
  },
  {
   "cell_type": "markdown",
   "id": "59a49edf",
   "metadata": {},
   "source": [
    "#### 4.1.5 Return children of a group (retuned as set)"
   ]
  },
  {
   "cell_type": "code",
   "execution_count": 23,
   "id": "dfc180f3",
   "metadata": {},
   "outputs": [
    {
     "name": "stdout",
     "output_type": "stream",
     "text": [
      "{Host: leaf01.bma, Host: leaf00.bma, Host: spine00.bma, Host: spine01.bma, Host: host2.bma, Host: host1.bma}\n",
      "<class 'set'>\n"
     ]
    }
   ],
   "source": [
    "print(nr.inventory.children_of_group(\"eu\"))\n",
    "print(type(nr.inventory.children_of_group(\"eu\")))   "
   ]
  },
  {
   "cell_type": "markdown",
   "id": "a19a96a7",
   "metadata": {},
   "source": [
    "### 4.2 Advanced Filtering"
   ]
  },
  {
   "cell_type": "markdown",
   "id": "7f53f7f9",
   "metadata": {},
   "source": [
    "#### 4.2.1 Filter Functions - simple queries"
   ]
  },
  {
   "cell_type": "markdown",
   "id": "3a634e91",
   "metadata": {},
   "source": [
    "The **filter_func** parameter can contain code to filter the hosts. The function signature is as simple as *my_func(host)* where host is an object of type Host and it has to return either **True** or **False** (to indicate if you want to host or not)."
   ]
  },
  {
   "cell_type": "code",
   "execution_count": 24,
   "id": "5c20c384",
   "metadata": {},
   "outputs": [],
   "source": [
    "# create a function (in this case simply filter by length of name)"
   ]
  },
  {
   "cell_type": "code",
   "execution_count": 25,
   "id": "240dce64",
   "metadata": {},
   "outputs": [],
   "source": [
    "def has_long_name(host):\n",
    "    \"\"\"returns True or False if length of host == 11\"\"\"\n",
    "    return len(host.name) == 11"
   ]
  },
  {
   "cell_type": "code",
   "execution_count": 26,
   "id": "0e9a787a",
   "metadata": {},
   "outputs": [
    {
     "data": {
      "text/plain": [
       "dict_keys(['spine00.cmh', 'spine01.cmh', 'spine00.bma', 'spine01.bma'])"
      ]
     },
     "execution_count": 26,
     "metadata": {},
     "output_type": "execute_result"
    }
   ],
   "source": [
    "nr.filter(filter_func=has_long_name).inventory.hosts.keys()"
   ]
  },
  {
   "cell_type": "code",
   "execution_count": 27,
   "id": "c3eeb8e0",
   "metadata": {},
   "outputs": [],
   "source": [
    "# lambda function"
   ]
  },
  {
   "cell_type": "code",
   "execution_count": 28,
   "id": "6e3ebccf",
   "metadata": {},
   "outputs": [
    {
     "data": {
      "text/plain": [
       "dict_keys(['spine00.cmh', 'spine01.cmh', 'spine00.bma', 'spine01.bma'])"
      ]
     },
     "execution_count": 28,
     "metadata": {},
     "output_type": "execute_result"
    }
   ],
   "source": [
    "nr.filter(filter_func=lambda x: len(x.name) == 11).inventory.hosts.keys()"
   ]
  },
  {
   "cell_type": "markdown",
   "id": "ebeae28a",
   "metadata": {},
   "source": [
    "#### 4.2.2 Filter Object - complex queries"
   ]
  },
  {
   "cell_type": "markdown",
   "id": "c582641f",
   "metadata": {},
   "source": [
    "You can also use a filter objects to incrementally create a complex query objects."
   ]
  },
  {
   "cell_type": "code",
   "execution_count": 29,
   "id": "405733ae",
   "metadata": {},
   "outputs": [],
   "source": [
    "# first you need to import the F object\n",
    "from nornir.core.filter import F"
   ]
  },
  {
   "cell_type": "code",
   "execution_count": 30,
   "id": "8cab3ada",
   "metadata": {},
   "outputs": [
    {
     "name": "stdout",
     "output_type": "stream",
     "text": [
      "dict_keys(['host1.cmh', 'host2.cmh', 'spine00.cmh', 'spine01.cmh', 'leaf00.cmh', 'leaf01.cmh'])\n"
     ]
    }
   ],
   "source": [
    "# hosts in group cmh\n",
    "cmh = nr.filter(F(groups__contains=\"cmh\"))\n",
    "print(cmh.inventory.hosts.keys())"
   ]
  },
  {
   "cell_type": "markdown",
   "id": "427d215c",
   "metadata": {},
   "source": [
    "##### 4.2.2.1 Logic filtering"
   ]
  },
  {
   "cell_type": "code",
   "execution_count": 31,
   "id": "1e03bce9",
   "metadata": {},
   "outputs": [
    {
     "name": "stdout",
     "output_type": "stream",
     "text": [
      "dict_keys(['host1.cmh', 'host2.cmh', 'spine00.cmh', 'leaf00.cmh', 'host1.bma', 'host2.bma', 'spine00.bma', 'leaf00.bma'])\n"
     ]
    }
   ],
   "source": [
    "# devices running either linux or eos\n",
    "linux_or_eos = nr.filter(F(platform=\"linux\") | F(platform=\"eos\"))\n",
    "print(linux_or_eos.inventory.hosts.keys())"
   ]
  },
  {
   "cell_type": "code",
   "execution_count": 32,
   "id": "b5125eda",
   "metadata": {},
   "outputs": [
    {
     "name": "stdout",
     "output_type": "stream",
     "text": [
      "dict_keys(['host1.cmh', 'host2.cmh', 'leaf00.cmh', 'leaf01.cmh'])\n"
     ]
    }
   ],
   "source": [
    "# cmh devices that are not spines\n",
    "cmh_and_not_spine = nr.filter(F(groups__contains=\"cmh\") & ~F(role=\"spine\"))\n",
    "print(cmh_and_not_spine.inventory.hosts.keys())"
   ]
  },
  {
   "cell_type": "markdown",
   "id": "43eea075",
   "metadata": {},
   "source": [
    "##### 4.2.2.2 Access nested Data"
   ]
  },
  {
   "cell_type": "markdown",
   "id": "b9c03f79",
   "metadata": {},
   "source": [
    "Access any nested data by separating the elements in the path with two underscores  __. Then use __contains to check if an element exists or if a string has a particular substring.\n",
    "\n"
   ]
  },
  {
   "cell_type": "code",
   "execution_count": 33,
   "id": "e2af1a5f",
   "metadata": {},
   "outputs": [
    {
     "name": "stdout",
     "output_type": "stream",
     "text": [
      "dict_keys(['host1.cmh'])\n"
     ]
    }
   ],
   "source": [
    "nested_string_asd = nr.filter(F(nested_data__a_string__contains=\"asd\"))\n",
    "print(nested_string_asd.inventory.hosts.keys())"
   ]
  },
  {
   "cell_type": "code",
   "execution_count": 34,
   "id": "4f34a96f",
   "metadata": {},
   "outputs": [
    {
     "name": "stdout",
     "output_type": "stream",
     "text": [
      "dict_keys(['host2.cmh'])\n"
     ]
    }
   ],
   "source": [
    "a_dict_element_equals = nr.filter(F(nested_data__a_dict__c=3))\n",
    "print(a_dict_element_equals.inventory.hosts.keys())"
   ]
  },
  {
   "cell_type": "code",
   "execution_count": 35,
   "id": "d2f8c84b",
   "metadata": {},
   "outputs": [
    {
     "name": "stdout",
     "output_type": "stream",
     "text": [
      "dict_keys(['host1.cmh', 'host2.cmh'])\n"
     ]
    }
   ],
   "source": [
    "a_list_contains = nr.filter(F(nested_data__a_list__contains=2))\n",
    "print(a_list_contains.inventory.hosts.keys())"
   ]
  },
  {
   "cell_type": "markdown",
   "id": "4529f209",
   "metadata": {},
   "source": [
    "[top](#top_of_page)"
   ]
  },
  {
   "cell_type": "markdown",
   "id": "b4d0a951",
   "metadata": {},
   "source": [
    "<a id=\"tasks\"></a>\n",
    "## 5 Tasks"
   ]
  },
  {
   "cell_type": "markdown",
   "id": "285aa492",
   "metadata": {},
   "source": [
    "A kind of function that takes a Task as first paramater and returns a Result.<br>\n",
    "(reusable piece of code that implements some functionality for a single host)"
   ]
  },
  {
   "cell_type": "code",
   "execution_count": 36,
   "id": "0c71cd9e",
   "metadata": {},
   "outputs": [],
   "source": [
    "# run tasks on groups of hosts, i.e. initializing objects for later use\n",
    "from nornir_utils.plugins.functions import print_result\n",
    "\n",
    "nr = InitNornir(config_file=\"config.yaml\")\n",
    "# filtering objects to simplify output\n",
    "nr = nr.filter(site=\"cmh\", role=\"host\")"
   ]
  },
  {
   "cell_type": "markdown",
   "id": "6dad7e1a",
   "metadata": {},
   "source": [
    "#### 5.1 Simple function"
   ]
  },
  {
   "cell_type": "code",
   "execution_count": 37,
   "id": "2dfb131b",
   "metadata": {},
   "outputs": [],
   "source": [
    "from nornir.core.task import Task, Result\n",
    "from nornir_utils.plugins.functions import print_result\n",
    "\n",
    "def hello_world(task: Task) -> Result:\n",
    "    \"\"\"Return string with host name and hardcoded message\"\"\"\n",
    "    return Result(\n",
    "        host=task.host,\n",
    "        result=f\"{task.host.name} says hello world!\"\n",
    "    )"
   ]
  },
  {
   "cell_type": "code",
   "execution_count": 38,
   "id": "5a36c4d9",
   "metadata": {},
   "outputs": [
    {
     "name": "stdout",
     "output_type": "stream",
     "text": [
      "\u001b[1m\u001b[36mhello_world*********************************************************************\u001b[0m\n",
      "\u001b[0m\u001b[1m\u001b[34m* host1.cmh ** changed : False *************************************************\u001b[0m\n",
      "\u001b[0m\u001b[1m\u001b[32mvvvv hello_world ** changed : False vvvvvvvvvvvvvvvvvvvvvvvvvvvvvvvvvvvvvvvvvvvv INFO\u001b[0m\n",
      "\u001b[0mhost1.cmh says hello world!\u001b[0m\n",
      "\u001b[0m\u001b[1m\u001b[32m^^^^ END hello_world ^^^^^^^^^^^^^^^^^^^^^^^^^^^^^^^^^^^^^^^^^^^^^^^^^^^^^^^^^^^\u001b[0m\n",
      "\u001b[0m\u001b[1m\u001b[34m* host2.cmh ** changed : False *************************************************\u001b[0m\n",
      "\u001b[0m\u001b[1m\u001b[32mvvvv hello_world ** changed : False vvvvvvvvvvvvvvvvvvvvvvvvvvvvvvvvvvvvvvvvvvvv INFO\u001b[0m\n",
      "\u001b[0mhost2.cmh says hello world!\u001b[0m\n",
      "\u001b[0m\u001b[1m\u001b[32m^^^^ END hello_world ^^^^^^^^^^^^^^^^^^^^^^^^^^^^^^^^^^^^^^^^^^^^^^^^^^^^^^^^^^^\u001b[0m\n",
      "\u001b[0m"
     ]
    }
   ],
   "source": [
    "# To execute a task you can use the run method:\n",
    "result = nr.run(task=hello_world)\n",
    "print_result(result)"
   ]
  },
  {
   "cell_type": "markdown",
   "id": "41c17b08",
   "metadata": {},
   "source": [
    "#### 5.2 Simple function with additional parameters\n"
   ]
  },
  {
   "cell_type": "markdown",
   "id": "c7b0c95b",
   "metadata": {},
   "source": [
    "+ use any number of arguments to extend their functionality"
   ]
  },
  {
   "cell_type": "code",
   "execution_count": 39,
   "id": "8954a10f",
   "metadata": {},
   "outputs": [],
   "source": [
    "def say(task: Task, text: str = \"default msg\") -> Result:\n",
    "    \"\"\"Return string with host name and message, if no message is given 'default msg' is default\"\"\"\n",
    "    return Result(\n",
    "        host=task.host,\n",
    "        result=f\"{task.host.name} says {text}\"\n",
    "    )"
   ]
  },
  {
   "cell_type": "markdown",
   "id": "c79da815",
   "metadata": {},
   "source": [
    "+ but need to be called like before **with** specifying the values for the extra argument:\n",
    "+ passing a **name** argument allows to give the task a descriptive name. (If it’s not specified the function name is used instead, e.g. hello_world in the 5.1 example above)"
   ]
  },
  {
   "cell_type": "code",
   "execution_count": 40,
   "id": "f9c059fe",
   "metadata": {},
   "outputs": [
    {
     "name": "stdout",
     "output_type": "stream",
     "text": [
      "\u001b[1m\u001b[36mSaying goodbye in a very friendly manner****************************************\u001b[0m\n",
      "\u001b[0m\u001b[1m\u001b[34m* host1.cmh ** changed : False *************************************************\u001b[0m\n",
      "\u001b[0m\u001b[1m\u001b[32mvvvv Saying goodbye in a very friendly manner ** changed : False vvvvvvvvvvvvvvv INFO\u001b[0m\n",
      "\u001b[0mhost1.cmh says buhbye!\u001b[0m\n",
      "\u001b[0m\u001b[1m\u001b[32m^^^^ END Saying goodbye in a very friendly manner ^^^^^^^^^^^^^^^^^^^^^^^^^^^^^^\u001b[0m\n",
      "\u001b[0m\u001b[1m\u001b[34m* host2.cmh ** changed : False *************************************************\u001b[0m\n",
      "\u001b[0m\u001b[1m\u001b[32mvvvv Saying goodbye in a very friendly manner ** changed : False vvvvvvvvvvvvvvv INFO\u001b[0m\n",
      "\u001b[0mhost2.cmh says buhbye!\u001b[0m\n",
      "\u001b[0m\u001b[1m\u001b[32m^^^^ END Saying goodbye in a very friendly manner ^^^^^^^^^^^^^^^^^^^^^^^^^^^^^^\u001b[0m\n",
      "\u001b[0m"
     ]
    }
   ],
   "source": [
    "result = nr.run(\n",
    "    name=\"Saying goodbye in a very friendly manner\",   # \"rename\" the function, i.e. give it description \n",
    "    task=say,\n",
    "    text=\"buhbye!\"                                     # additional parameter\n",
    ")\n",
    "print_result(result)"
   ]
  },
  {
   "cell_type": "markdown",
   "id": "6e6c982c",
   "metadata": {},
   "source": [
    "#### 5.3 Grouping tasks"
   ]
  },
  {
   "cell_type": "markdown",
   "id": "7ac72a48",
   "metadata": {},
   "source": [
    "Build more complex functionality by combining smaller building blocks, i.e. tasks calling other tasks.<br>\n",
    "Example with the say function above an another count function defines as follows:"
   ]
  },
  {
   "cell_type": "code",
   "execution_count": 41,
   "id": "8d690830",
   "metadata": {},
   "outputs": [],
   "source": [
    "def count(task: Task, number: int) -> Result:\n",
    "    \"\"\"takes in a number and returns an f-string with list counting number elements\"\"\"\n",
    "    return Result(\n",
    "        host=task.host,\n",
    "        result=f\"{[n for n in range(0, number)]}\"\n",
    "    )"
   ]
  },
  {
   "cell_type": "markdown",
   "id": "3756a488",
   "metadata": {},
   "source": [
    "+ Build a new task combining these two functions"
   ]
  },
  {
   "cell_type": "code",
   "execution_count": 42,
   "id": "54fcafcf",
   "metadata": {},
   "outputs": [],
   "source": [
    "def greet_and_count(task: Task, number: int = 1,\n",
    "                    greet: str = \"default greet\", bye: str = \"default bye\") -> Result:\n",
    "    \"\"\"uses the say and count functions, grouping the tasks with parameters for number, greet and bye\n",
    "       (default: 1, \"default greet\" and \"default bye\" \"\"\"\n",
    "    task.run(  # call the say function\n",
    "        name=\"The say function is called with the greet parameter\",\n",
    "        task=say,\n",
    "        text=greet,\n",
    "    )\n",
    "    task.run(\n",
    "        name=\"The count function is called \",\n",
    "        task=count,\n",
    "        number=number,\n",
    "    )\n",
    "    task.run(\n",
    "        name=\"The say function is called with the bye parameter\",\n",
    "        task=say,\n",
    "        text=bye,\n",
    "    )    # the task (function) can have more code within itself, e.g. checking even or odd\n",
    "    even_or_odds = \"even\" if (number+1) % 2 == 1 else \"odd\"\n",
    "    return Result(\n",
    "        host=task.host,\n",
    "        result=f\"{task.host} counted {even_or_odds} times!\",\n",
    "    )"
   ]
  },
  {
   "cell_type": "code",
   "execution_count": 43,
   "id": "775569e0",
   "metadata": {},
   "outputs": [
    {
     "name": "stdout",
     "output_type": "stream",
     "text": [
      "\u001b[1m\u001b[36mCounting to 5 and using the say function to greet and say bye*******************\u001b[0m\n",
      "\u001b[0m\u001b[1m\u001b[34m* host1.cmh ** changed : False *************************************************\u001b[0m\n",
      "\u001b[0m\u001b[1m\u001b[32mvvvv Counting to 5 and using the say function to greet and say bye ** changed : False  INFO\u001b[0m\n",
      "\u001b[0mhost1.cmh counted odd times!\u001b[0m\n",
      "\u001b[0m\u001b[1m\u001b[32m---- The say function is called with the greet parameter ** changed : False ---- INFO\u001b[0m\n",
      "\u001b[0mhost1.cmh says Hello, there\u001b[0m\n",
      "\u001b[0m\u001b[1m\u001b[32m---- The count function is called  ** changed : False -------------------------- INFO\u001b[0m\n",
      "\u001b[0m[0, 1, 2, 3, 4]\u001b[0m\n",
      "\u001b[0m\u001b[1m\u001b[32m---- The say function is called with the bye parameter ** changed : False ------ INFO\u001b[0m\n",
      "\u001b[0mhost1.cmh says Bye now\u001b[0m\n",
      "\u001b[0m\u001b[1m\u001b[32m^^^^ END Counting to 5 and using the say function to greet and say bye ^^^^^^^^^\u001b[0m\n",
      "\u001b[0m\u001b[1m\u001b[34m* host2.cmh ** changed : False *************************************************\u001b[0m\n",
      "\u001b[0m\u001b[1m\u001b[32mvvvv Counting to 5 and using the say function to greet and say bye ** changed : False  INFO\u001b[0m\n",
      "\u001b[0mhost2.cmh counted odd times!\u001b[0m\n",
      "\u001b[0m\u001b[1m\u001b[32m---- The say function is called with the greet parameter ** changed : False ---- INFO\u001b[0m\n",
      "\u001b[0mhost2.cmh says Hello, there\u001b[0m\n",
      "\u001b[0m\u001b[1m\u001b[32m---- The count function is called  ** changed : False -------------------------- INFO\u001b[0m\n",
      "\u001b[0m[0, 1, 2, 3, 4]\u001b[0m\n",
      "\u001b[0m\u001b[1m\u001b[32m---- The say function is called with the bye parameter ** changed : False ------ INFO\u001b[0m\n",
      "\u001b[0mhost2.cmh says Bye now\u001b[0m\n",
      "\u001b[0m\u001b[1m\u001b[32m^^^^ END Counting to 5 and using the say function to greet and say bye ^^^^^^^^^\u001b[0m\n",
      "\u001b[0m"
     ]
    }
   ],
   "source": [
    "this_num = 5\n",
    "this_greet = \"Hello, there\"\n",
    "this_bye = \"Bye now\"\n",
    "result = nr.run(\n",
    "    name=f\"Counting to {this_num} and using the say function to greet and say bye\",\n",
    "    task=greet_and_count,\n",
    "    number=this_num,\n",
    "    greet=this_greet,\n",
    "    bye=this_bye\n",
    ")\n",
    "print_result(result)"
   ]
  },
  {
   "cell_type": "markdown",
   "id": "8a92ee3e",
   "metadata": {},
   "source": [
    "##### 5.3.1 Single results and tasks"
   ]
  },
  {
   "cell_type": "markdown",
   "id": "6b265e89",
   "metadata": {},
   "source": [
    "+ Single Host (by tapping into result[\"host_name\"])"
   ]
  },
  {
   "cell_type": "code",
   "execution_count": 44,
   "id": "3b0bfd6d",
   "metadata": {},
   "outputs": [
    {
     "name": "stdout",
     "output_type": "stream",
     "text": [
      "\u001b[1m\u001b[32mvvvv host1.cmh: Counting to 5 and using the say function to greet and say bye ** changed : False  INFO\u001b[0m\n",
      "\u001b[0mhost1.cmh counted odd times!\u001b[0m\n",
      "\u001b[0m\u001b[1m\u001b[32m---- The say function is called with the greet parameter ** changed : False ---- INFO\u001b[0m\n",
      "\u001b[0mhost1.cmh says Hello, there\u001b[0m\n",
      "\u001b[0m\u001b[1m\u001b[32m---- The count function is called  ** changed : False -------------------------- INFO\u001b[0m\n",
      "\u001b[0m[0, 1, 2, 3, 4]\u001b[0m\n",
      "\u001b[0m\u001b[1m\u001b[32m---- The say function is called with the bye parameter ** changed : False ------ INFO\u001b[0m\n",
      "\u001b[0mhost1.cmh says Bye now\u001b[0m\n",
      "\u001b[0m\u001b[1m\u001b[32m^^^^ END Counting to 5 and using the say function to greet and say bye ^^^^^^^^^\u001b[0m\n",
      "\u001b[0m"
     ]
    }
   ],
   "source": [
    "print_result(result[\"host1.cmh\"])"
   ]
  },
  {
   "cell_type": "markdown",
   "id": "ae5ffefb",
   "metadata": {},
   "source": [
    "+ Single task (by tapping into result[\"host_name\"] and the *list* of tasks) "
   ]
  },
  {
   "cell_type": "code",
   "execution_count": 45,
   "id": "84006645",
   "metadata": {},
   "outputs": [
    {
     "name": "stdout",
     "output_type": "stream",
     "text": [
      "\u001b[1m\u001b[32m---- host1.cmh: The count function is called  ** changed : False --------------- INFO\u001b[0m\n",
      "\u001b[0m[0, 1, 2, 3, 4]\u001b[0m\n",
      "\u001b[0m"
     ]
    }
   ],
   "source": [
    "print_result(result[\"host1.cmh\"][2])"
   ]
  },
  {
   "cell_type": "markdown",
   "id": "9fa1add6",
   "metadata": {},
   "source": [
    "[top](#top_of_page)"
   ]
  },
  {
   "cell_type": "markdown",
   "id": "60dcaf23",
   "metadata": {},
   "source": [
    "<a id=\"processing_results\"></a>\n",
    "## 6 Processing Results"
   ]
  },
  {
   "cell_type": "markdown",
   "id": "ea7c580f",
   "metadata": {},
   "source": [
    "Use the functions/tasks from above, but slightly adapt the <code>def say</code> to raise an error in a particular case."
   ]
  },
  {
   "cell_type": "code",
   "execution_count": 46,
   "id": "99e62be4",
   "metadata": {},
   "outputs": [],
   "source": [
    "import logging     # to log errors"
   ]
  },
  {
   "cell_type": "code",
   "execution_count": 47,
   "id": "9deb413e",
   "metadata": {},
   "outputs": [],
   "source": [
    "def say_new(task: Task, text: str = \"default msg\", exception_host_name: str = \"host2.cmh\") -> Result:\n",
    "    \"\"\"Return string with host name and message, if no message is given 'default msg' is default, \n",
    "       to if the hostname equals exception_host_name, an error is raised.\"\"\"\n",
    "    if task.host.name == exception_host_name:\n",
    "        raise Exception(f\"An Exception was raised on host {exception_host_name}\")\n",
    "    return Result(\n",
    "        host=task.host,\n",
    "        result=f\"{task.host.name} says {text}\"\n",
    "    )"
   ]
  },
  {
   "cell_type": "code",
   "execution_count": 48,
   "id": "ed7a6d85",
   "metadata": {},
   "outputs": [],
   "source": [
    "def greet_and_count_new(task: Task, number: int = 1,\n",
    "                    greet: str = \"default greet\", bye: str = \"default bye\") -> Result:\n",
    "    \"\"\"uses the say and count functions, grouping the tasks with parameters for number, greet and bye\n",
    "       (default: 1, \"default greet\" and \"default bye\" \"\"\"\n",
    "    task.run(  # call the say function\n",
    "        name=\"The say function is called with the greet parameter\",\n",
    "        severity_level=logging.DEBUG,\n",
    "        task=say_new,\n",
    "        text=greet,\n",
    "    )\n",
    "    task.run(\n",
    "        name=\"The count function is called \",\n",
    "        task=count,\n",
    "        number=number,\n",
    "    )\n",
    "    task.run(\n",
    "        name=\"The say function is called with the bye parameter\",\n",
    "        severity_level=logging.DEBUG,\n",
    "        task=say_new,\n",
    "        text=bye,\n",
    "    )    # the task (function) can have more code within itself, e.g. checking even or odd\n",
    "    even_or_odds = \"even\" if (number+1) % 2 == 1 else \"odd\"\n",
    "    return Result(\n",
    "        host=task.host,\n",
    "        result=f\"{task.host} counted {even_or_odds} times!\",\n",
    "    )"
   ]
  },
  {
   "cell_type": "code",
   "execution_count": 49,
   "id": "2bc8b96d",
   "metadata": {},
   "outputs": [],
   "source": [
    "# re-instantiate the nr object and filter to cmh \n",
    "nr = InitNornir(config_file=\"config.yaml\")\n",
    "cmh = nr.filter(site=\"cmh\", type=\"host\")"
   ]
  },
  {
   "cell_type": "markdown",
   "id": "a2708811",
   "metadata": {},
   "source": [
    "#### 6.1 Simple approach"
   ]
  },
  {
   "cell_type": "code",
   "execution_count": 50,
   "id": "adf98d43",
   "metadata": {},
   "outputs": [
    {
     "name": "stdout",
     "output_type": "stream",
     "text": [
      "\u001b[1m\u001b[36mCounting to 5 and using the say function to greet and say bye*******************\u001b[0m\n",
      "\u001b[0m\u001b[1m\u001b[34m* host1.cmh ** changed : False *************************************************\u001b[0m\n",
      "\u001b[0m\u001b[1m\u001b[32mvvvv Counting to 5 and using the say function to greet and say bye ** changed : False  INFO\u001b[0m\n",
      "\u001b[0mhost1.cmh counted odd times!\u001b[0m\n",
      "\u001b[0m\u001b[1m\u001b[32m---- The count function is called  ** changed : False -------------------------- INFO\u001b[0m\n",
      "\u001b[0m[0, 1, 2, 3, 4]\u001b[0m\n",
      "\u001b[0m\u001b[1m\u001b[32m^^^^ END Counting to 5 and using the say function to greet and say bye ^^^^^^^^^\u001b[0m\n",
      "\u001b[0m\u001b[1m\u001b[34m* host2.cmh ** changed : False *************************************************\u001b[0m\n",
      "\u001b[0m\u001b[1m\u001b[31mvvvv Counting to 5 and using the say function to greet and say bye ** changed : False  ERROR\u001b[0m\n",
      "\u001b[0mSubtask: The say function is called with the greet parameter (failed)\n",
      "\u001b[0m\n",
      "\u001b[0m\u001b[1m\u001b[31m---- The say function is called with the greet parameter ** changed : False ---- ERROR\u001b[0m\n",
      "\u001b[0mTraceback (most recent call last):\n",
      "  File \"C:\\Users\\roman\\Python\\anaconda\\envs\\nornir_env\\lib\\site-packages\\nornir\\core\\task.py\", line 99, in start\n",
      "    r = self.task(self, **self.params)\n",
      "  File \"C:\\Users\\roman\\AppData\\Local\\Temp\\ipykernel_22584\\2856640965.py\", line 5, in say_new\n",
      "    raise Exception(f\"An Exception was raised on host {exception_host_name}\")\n",
      "Exception: An Exception was raised on host host2.cmh\n",
      "\u001b[0m\n",
      "\u001b[0m\u001b[1m\u001b[31m^^^^ END Counting to 5 and using the say function to greet and say bye ^^^^^^^^^\u001b[0m\n",
      "\u001b[0m"
     ]
    }
   ],
   "source": [
    "# run the adapted scripts\n",
    "this_num = 5\n",
    "this_greet = \"Hello, there\"\n",
    "this_bye = \"Bye now\"\n",
    "result = cmh.run(\n",
    "    name=f\"Counting to {this_num} and using the say function to greet and say bye\",\n",
    "    task=greet_and_count_new,\n",
    "    number=this_num,\n",
    "    greet=this_greet,\n",
    "    bye=this_bye\n",
    ")\n",
    "print_result(result)"
   ]
  },
  {
   "cell_type": "markdown",
   "id": "7770b649",
   "metadata": {},
   "source": [
    "+ When *print_result* now, not all tasks are printed due to the logged <code>severity_level=logging.DEBUG</code>.<br>\n",
    "By **default** only the **info level** info will be printed<br>\n",
    "A failed task will always have its severity level changed to ERROR regardless of the one specified by the user. With the exception_host_name parameter an error was raised at the host, so it will **NOT** be printed, if not specified."
   ]
  },
  {
   "cell_type": "code",
   "execution_count": 51,
   "id": "f21824f7",
   "metadata": {},
   "outputs": [
    {
     "name": "stdout",
     "output_type": "stream",
     "text": [
      "\u001b[1m\u001b[32mvvvv host1.cmh: Counting to 5 and using the say function to greet and say bye ** changed : False  INFO\u001b[0m\n",
      "\u001b[0mhost1.cmh counted odd times!\u001b[0m\n",
      "\u001b[0m\u001b[1m\u001b[32m---- The count function is called  ** changed : False -------------------------- INFO\u001b[0m\n",
      "\u001b[0m[0, 1, 2, 3, 4]\u001b[0m\n",
      "\u001b[0m\u001b[1m\u001b[32m^^^^ END Counting to 5 and using the say function to greet and say bye ^^^^^^^^^\u001b[0m\n",
      "\u001b[0m"
     ]
    }
   ],
   "source": [
    "print_result(result[\"host1.cmh\"])"
   ]
  },
  {
   "cell_type": "markdown",
   "id": "b33891f2",
   "metadata": {},
   "source": [
    "+ change the severity_level by defining parameter in *print_result*"
   ]
  },
  {
   "cell_type": "code",
   "execution_count": 52,
   "id": "74eb86ff",
   "metadata": {},
   "outputs": [
    {
     "name": "stdout",
     "output_type": "stream",
     "text": [
      "\u001b[1m\u001b[36mCounting to 5 and using the say function to greet and say bye*******************\u001b[0m\n",
      "\u001b[0m\u001b[1m\u001b[34m* host1.cmh ** changed : False *************************************************\u001b[0m\n",
      "\u001b[0m\u001b[1m\u001b[32mvvvv Counting to 5 and using the say function to greet and say bye ** changed : False  INFO\u001b[0m\n",
      "\u001b[0mhost1.cmh counted odd times!\u001b[0m\n",
      "\u001b[0m\u001b[1m\u001b[32m---- The say function is called with the greet parameter ** changed : False ---- DEBUG\u001b[0m\n",
      "\u001b[0mhost1.cmh says Hello, there\u001b[0m\n",
      "\u001b[0m\u001b[1m\u001b[32m---- The count function is called  ** changed : False -------------------------- INFO\u001b[0m\n",
      "\u001b[0m[0, 1, 2, 3, 4]\u001b[0m\n",
      "\u001b[0m\u001b[1m\u001b[32m---- The say function is called with the bye parameter ** changed : False ------ DEBUG\u001b[0m\n",
      "\u001b[0mhost1.cmh says Bye now\u001b[0m\n",
      "\u001b[0m\u001b[1m\u001b[32m^^^^ END Counting to 5 and using the say function to greet and say bye ^^^^^^^^^\u001b[0m\n",
      "\u001b[0m\u001b[1m\u001b[34m* host2.cmh ** changed : False *************************************************\u001b[0m\n",
      "\u001b[0m\u001b[1m\u001b[31mvvvv Counting to 5 and using the say function to greet and say bye ** changed : False  ERROR\u001b[0m\n",
      "\u001b[0mSubtask: The say function is called with the greet parameter (failed)\n",
      "\u001b[0m\n",
      "\u001b[0m\u001b[1m\u001b[31m---- The say function is called with the greet parameter ** changed : False ---- ERROR\u001b[0m\n",
      "\u001b[0mTraceback (most recent call last):\n",
      "  File \"C:\\Users\\roman\\Python\\anaconda\\envs\\nornir_env\\lib\\site-packages\\nornir\\core\\task.py\", line 99, in start\n",
      "    r = self.task(self, **self.params)\n",
      "  File \"C:\\Users\\roman\\AppData\\Local\\Temp\\ipykernel_22584\\2856640965.py\", line 5, in say_new\n",
      "    raise Exception(f\"An Exception was raised on host {exception_host_name}\")\n",
      "Exception: An Exception was raised on host host2.cmh\n",
      "\u001b[0m\n",
      "\u001b[0m\u001b[1m\u001b[31m^^^^ END Counting to 5 and using the say function to greet and say bye ^^^^^^^^^\u001b[0m\n",
      "\u001b[0m"
     ]
    }
   ],
   "source": [
    "print_result(result, severity_level=logging.DEBUG)"
   ]
  },
  {
   "cell_type": "markdown",
   "id": "587c1204",
   "metadata": {},
   "source": [
    "#### 6.2 Programmatic approach"
   ]
  },
  {
   "cell_type": "markdown",
   "id": "6f061c3f",
   "metadata": {},
   "source": [
    "The task groups will return an **AggregatedResult**."
   ]
  },
  {
   "cell_type": "code",
   "execution_count": 53,
   "id": "4d732475",
   "metadata": {},
   "outputs": [
    {
     "data": {
      "text/plain": [
       "AggregatedResult (Counting to 5 and using the say function to greet and say bye): {'host1.cmh': MultiResult: [Result: \"Counting to 5 and using the say function to greet and say bye\", Result: \"The say function is called with the greet parameter\", Result: \"The count function is called \", Result: \"The say function is called with the bye parameter\"], 'host2.cmh': MultiResult: [Result: \"Counting to 5 and using the say function to greet and say bye\", Result: \"The say function is called with the greet parameter\"]}"
      ]
     },
     "execution_count": 53,
     "metadata": {},
     "output_type": "execute_result"
    }
   ],
   "source": [
    "result"
   ]
  },
  {
   "cell_type": "markdown",
   "id": "46b0cff5",
   "metadata": {},
   "source": [
    "This is a dict-like object which can be used to iterate over or access hosts directly."
   ]
  },
  {
   "cell_type": "code",
   "execution_count": 54,
   "id": "95fba9f4",
   "metadata": {},
   "outputs": [
    {
     "data": {
      "text/plain": [
       "dict_keys(['host1.cmh', 'host2.cmh'])"
      ]
     },
     "execution_count": 54,
     "metadata": {},
     "output_type": "execute_result"
    }
   ],
   "source": [
    "result.keys()"
   ]
  },
  {
   "cell_type": "code",
   "execution_count": 55,
   "id": "083eed8a",
   "metadata": {},
   "outputs": [
    {
     "data": {
      "text/plain": [
       "MultiResult: [Result: \"Counting to 5 and using the say function to greet and say bye\", Result: \"The say function is called with the greet parameter\", Result: \"The count function is called \", Result: \"The say function is called with the bye parameter\"]"
      ]
     },
     "execution_count": 55,
     "metadata": {},
     "output_type": "execute_result"
    }
   ],
   "source": [
    "result[\"host1.cmh\"]"
   ]
  },
  {
   "cell_type": "markdown",
   "id": "95c93bbb",
   "metadata": {},
   "source": [
    "Each **AggregatedResult** contains a *list*-like **MultiResult** object, therefore can be indexed."
   ]
  },
  {
   "cell_type": "code",
   "execution_count": 56,
   "id": "9160c6b5",
   "metadata": {},
   "outputs": [
    {
     "data": {
      "text/plain": [
       "Result: \"Counting to 5 and using the say function to greet and say bye\""
      ]
     },
     "execution_count": 56,
     "metadata": {},
     "output_type": "execute_result"
    }
   ],
   "source": [
    "result[\"host1.cmh\"][0]"
   ]
  },
  {
   "cell_type": "markdown",
   "id": "fefc61e3",
   "metadata": {},
   "source": [
    "Each result also contains the **changed** and **failed** from the respective host. Therefore, it is possible to return the directly."
   ]
  },
  {
   "cell_type": "code",
   "execution_count": 57,
   "id": "079f1291",
   "metadata": {},
   "outputs": [
    {
     "name": "stdout",
     "output_type": "stream",
     "text": [
      "host1.cmh -> changed: False, failed: False\u001b[0m\n",
      "\u001b[0mhost2.cmh -> changed: False, failed: True\u001b[0m\n",
      "\u001b[0m"
     ]
    }
   ],
   "source": [
    "for host in [\"host1.cmh\", \"host2.cmh\"]:\n",
    "    print(f\"{host} -> changed: {result[host].changed}, failed: {result[host].failed}\")\n"
   ]
  },
  {
   "cell_type": "markdown",
   "id": "00109f45",
   "metadata": {},
   "source": [
    "[top](#top_of_page)"
   ]
  },
  {
   "cell_type": "markdown",
   "id": "af9334c0",
   "metadata": {},
   "source": [
    "## 7 Failed Tasks"
   ]
  },
  {
   "cell_type": "markdown",
   "id": "d9382d65",
   "metadata": {},
   "source": [
    "#### 7.1 Basics"
   ]
  },
  {
   "cell_type": "markdown",
   "id": "932d7950",
   "metadata": {},
   "source": [
    "+ the **.failed** property will be set **True** when a task failed"
   ]
  },
  {
   "cell_type": "code",
   "execution_count": 58,
   "id": "ddddea0a",
   "metadata": {},
   "outputs": [
    {
     "name": "stdout",
     "output_type": "stream",
     "text": [
      "True\u001b[0m\n",
      "\u001b[0m"
     ]
    }
   ],
   "source": [
    "print(result.failed)"
   ]
  },
  {
   "cell_type": "markdown",
   "id": "ae033e1f",
   "metadata": {},
   "source": [
    "+ under **.failed_hosts** is a dict-loke object with the failed hosts"
   ]
  },
  {
   "cell_type": "code",
   "execution_count": 59,
   "id": "de85b21d",
   "metadata": {},
   "outputs": [
    {
     "name": "stdout",
     "output_type": "stream",
     "text": [
      "{'host2.cmh': MultiResult: [Result: \"Counting to 5 and using the say function to greet and say bye\", Result: \"The say function is called with the greet parameter\"]}\u001b[0m\n",
      "\u001b[0m"
     ]
    }
   ],
   "source": [
    "print(result.failed_hosts)"
   ]
  },
  {
   "cell_type": "markdown",
   "id": "7dddfa9e",
   "metadata": {},
   "source": [
    "+ the list-like onject **.exception** contains the Exception message under index 1"
   ]
  },
  {
   "cell_type": "code",
   "execution_count": 60,
   "id": "68adc524",
   "metadata": {},
   "outputs": [
    {
     "name": "stdout",
     "output_type": "stream",
     "text": [
      "Subtask: The say function is called with the greet parameter (failed)\n",
      "\u001b[0m\n",
      "\u001b[0mAn Exception was raised on host host2.cmh\u001b[0m\n",
      "\u001b[0m"
     ]
    }
   ],
   "source": [
    "print(result['host2.cmh'].exception)\n",
    "print(result['host2.cmh'][1].exception)"
   ]
  },
  {
   "cell_type": "markdown",
   "id": "021b17fe",
   "metadata": {},
   "source": [
    "+ **NornirExecutionError**<br>Built-in method raising an exception if the task had an error"
   ]
  },
  {
   "cell_type": "code",
   "execution_count": 61,
   "id": "e7e8d41f",
   "metadata": {},
   "outputs": [
    {
     "name": "stdout",
     "output_type": "stream",
     "text": [
      "An error was raised.\u001b[0m\n",
      "\u001b[0m"
     ]
    }
   ],
   "source": [
    "from nornir.core.exceptions import NornirExecutionError\n",
    "try:\n",
    "    result.raise_on_error()\n",
    "except NornirExecutionError:\n",
    "    print(\"An error was raised.\")"
   ]
  },
  {
   "cell_type": "markdown",
   "id": "36f78576",
   "metadata": {},
   "source": [
    "#### 7.2 Skipped hosts<br>\n",
    "When re-instating cmh, there was an error raised on host2.cmh.<br>\n",
    "A set of failed hosts is keeping track of failed host in shared data object **nr.data.failed_hosts**:"
   ]
  },
  {
   "cell_type": "code",
   "execution_count": 62,
   "id": "e1287120",
   "metadata": {},
   "outputs": [
    {
     "name": "stdout",
     "output_type": "stream",
     "text": [
      "{'host2.cmh'}\u001b[0m\n",
      "\u001b[0m"
     ]
    }
   ],
   "source": [
    "print(nr.data.failed_hosts)"
   ]
  },
  {
   "cell_type": "markdown",
   "id": "bc152c95",
   "metadata": {},
   "source": [
    "+ That way, **failed hosts** will be tracked and future tasks **WILL NOT** be run on them by Nornir."
   ]
  },
  {
   "cell_type": "code",
   "execution_count": 63,
   "id": "a13f0671",
   "metadata": {},
   "outputs": [],
   "source": [
    "# New task\n",
    "def new_task(task: Task) -> Result:\n",
    "    \"\"\"similar to say, to show failed tasks handling\"\"\"\n",
    "    return Result(host=task.host, result=f\"{task.host.name}: new task was run on.\")"
   ]
  },
  {
   "cell_type": "code",
   "execution_count": 64,
   "id": "7916e602",
   "metadata": {},
   "outputs": [],
   "source": [
    "result = cmh.run(task=new_task)"
   ]
  },
  {
   "cell_type": "code",
   "execution_count": 65,
   "id": "ca6a9b48",
   "metadata": {},
   "outputs": [
    {
     "name": "stdout",
     "output_type": "stream",
     "text": [
      "\u001b[1m\u001b[36mnew_task************************************************************************\u001b[0m\n",
      "\u001b[0m\u001b[1m\u001b[34m* host1.cmh ** changed : False *************************************************\u001b[0m\n",
      "\u001b[0m\u001b[1m\u001b[32mvvvv new_task ** changed : False vvvvvvvvvvvvvvvvvvvvvvvvvvvvvvvvvvvvvvvvvvvvvvv INFO\u001b[0m\n",
      "\u001b[0mhost1.cmh: new task was run on.\u001b[0m\n",
      "\u001b[0m\u001b[1m\u001b[32m^^^^ END new_task ^^^^^^^^^^^^^^^^^^^^^^^^^^^^^^^^^^^^^^^^^^^^^^^^^^^^^^^^^^^^^^\u001b[0m\n",
      "\u001b[0m"
     ]
    }
   ],
   "source": [
    "print_result(result)"
   ]
  },
  {
   "cell_type": "markdown",
   "id": "a5e7a49a",
   "metadata": {},
   "source": [
    "+ To **include failed** hosts, you can set parameter **on_failed** to True on calling the .run function (default is False):"
   ]
  },
  {
   "cell_type": "code",
   "execution_count": 66,
   "id": "1530504b",
   "metadata": {},
   "outputs": [
    {
     "name": "stdout",
     "output_type": "stream",
     "text": [
      "\u001b[1m\u001b[36mnew_task************************************************************************\u001b[0m\n",
      "\u001b[0m\u001b[1m\u001b[34m* host1.cmh ** changed : False *************************************************\u001b[0m\n",
      "\u001b[0m\u001b[1m\u001b[32mvvvv new_task ** changed : False vvvvvvvvvvvvvvvvvvvvvvvvvvvvvvvvvvvvvvvvvvvvvvv INFO\u001b[0m\n",
      "\u001b[0mhost1.cmh: new task was run on.\u001b[0m\n",
      "\u001b[0m\u001b[1m\u001b[32m^^^^ END new_task ^^^^^^^^^^^^^^^^^^^^^^^^^^^^^^^^^^^^^^^^^^^^^^^^^^^^^^^^^^^^^^\u001b[0m\n",
      "\u001b[0m\u001b[1m\u001b[34m* host2.cmh ** changed : False *************************************************\u001b[0m\n",
      "\u001b[0m\u001b[1m\u001b[32mvvvv new_task ** changed : False vvvvvvvvvvvvvvvvvvvvvvvvvvvvvvvvvvvvvvvvvvvvvvv INFO\u001b[0m\n",
      "\u001b[0mhost2.cmh: new task was run on.\u001b[0m\n",
      "\u001b[0m\u001b[1m\u001b[32m^^^^ END new_task ^^^^^^^^^^^^^^^^^^^^^^^^^^^^^^^^^^^^^^^^^^^^^^^^^^^^^^^^^^^^^^\u001b[0m\n",
      "\u001b[0m"
     ]
    }
   ],
   "source": [
    "result = cmh.run(task=new_task, on_failed=True)\n",
    "print_result(result)"
   ]
  },
  {
   "cell_type": "markdown",
   "id": "14c391c0",
   "metadata": {},
   "source": [
    "+ To **exclude \"good\"** hosts, you can set parameter **on_good** to False on calling the .run function (default is True):"
   ]
  },
  {
   "cell_type": "code",
   "execution_count": 67,
   "id": "2d5a8276",
   "metadata": {},
   "outputs": [
    {
     "name": "stdout",
     "output_type": "stream",
     "text": [
      "\u001b[1m\u001b[36mnew_task************************************************************************\u001b[0m\n",
      "\u001b[0m\u001b[1m\u001b[34m* host2.cmh ** changed : False *************************************************\u001b[0m\n",
      "\u001b[0m\u001b[1m\u001b[32mvvvv new_task ** changed : False vvvvvvvvvvvvvvvvvvvvvvvvvvvvvvvvvvvvvvvvvvvvvvv INFO\u001b[0m\n",
      "\u001b[0mhost2.cmh: new task was run on.\u001b[0m\n",
      "\u001b[0m\u001b[1m\u001b[32m^^^^ END new_task ^^^^^^^^^^^^^^^^^^^^^^^^^^^^^^^^^^^^^^^^^^^^^^^^^^^^^^^^^^^^^^\u001b[0m\n",
      "\u001b[0m"
     ]
    }
   ],
   "source": [
    "result = cmh.run(task=new_task, on_failed=True, on_good=False)\n",
    "print_result(result)"
   ]
  },
  {
   "cell_type": "markdown",
   "id": "e8400a6a",
   "metadata": {},
   "source": [
    "#### 7.3 Resetting .failed_hosts"
   ]
  },
  {
   "cell_type": "markdown",
   "id": "f7130ccb",
   "metadata": {},
   "source": [
    "Make flagged hosts eligible for future tasks again by resetting the list completely with reset_failed_hosts:"
   ]
  },
  {
   "cell_type": "code",
   "execution_count": 68,
   "id": "7b3cacef",
   "metadata": {},
   "outputs": [
    {
     "name": "stdout",
     "output_type": "stream",
     "text": [
      "set()\u001b[0m\n",
      "\u001b[0m"
     ]
    }
   ],
   "source": [
    "nr.data.reset_failed_hosts()\n",
    "print(nr.data.failed_hosts)"
   ]
  },
  {
   "cell_type": "markdown",
   "id": "46e1341b",
   "metadata": {},
   "source": [
    "(lookup recover_host for individually resetting hosts)"
   ]
  },
  {
   "cell_type": "markdown",
   "id": "04aa18d3",
   "metadata": {},
   "source": [
    "[top](#top_of_page)"
   ]
  },
  {
   "cell_type": "markdown",
   "id": "499f1188",
   "metadata": {},
   "source": [
    "<a id=\"processors\"></a>\n",
    "## 8 Processors"
   ]
  },
  {
   "cell_type": "markdown",
   "id": "5a036764",
   "metadata": {},
   "source": [
    "Processors are plugins that can execute code on certain events.<br>\n",
    "Alternative way of dealing with the results of a task, with the following advantages:<br>\n",
    "+ Due to its event-based nature, the events can be processed asynchronously, meaning the result will be processed of a host exactly once the host is completed without the need to wait for the rest of the hosts to complete.\n",
    "+ Tapping into events code allows for more concise and easier to understanding.\n"
   ]
  },
  {
   "cell_type": "code",
   "execution_count": 69,
   "id": "443c0857",
   "metadata": {},
   "outputs": [],
   "source": [
    "from typing import Dict # to annotate code with types"
   ]
  },
  {
   "cell_type": "code",
   "execution_count": 70,
   "id": "c51bfdf7",
   "metadata": {},
   "outputs": [],
   "source": [
    "# re-instantiate the nr object\n",
    "nr = InitNornir(config_file=\"config.yaml\")"
   ]
  },
  {
   "cell_type": "code",
   "execution_count": 71,
   "id": "9cd050e5",
   "metadata": {},
   "outputs": [],
   "source": [
    "from nornir.core import Nornir\n",
    "from nornir.core.inventory import Host\n",
    "from nornir.core.task import AggregatedResult, MultiResult, Result, Task\n",
    "\n",
    "class PrintResult:\n",
    "    def task_started(self, task: Task) -> None:\n",
    "        print(f\">>> starting: {task.name}\")\n",
    "\n",
    "    def task_completed(self, task: Task, result: AggregatedResult) -> None:\n",
    "        print(f\">>> completed: {task.name}\")\n",
    "\n",
    "    def task_instance_started(self, task: Task, host: Host) -> None:\n",
    "        pass\n",
    "\n",
    "    def task_instance_completed(\n",
    "        self, task: Task, host: Host, result: MultiResult\n",
    "    ) -> None:\n",
    "        print(f\"  - {host.name}: - {result.result}\")\n",
    "\n",
    "    def subtask_instance_started(self, task: Task, host: Host) -> None:\n",
    "        pass  # to keep example short and sweet we ignore subtasks\n",
    "\n",
    "    def subtask_instance_completed(\n",
    "        self, task: Task, host: Host, result: MultiResult\n",
    "    ) -> None:\n",
    "        pass  # to keep example short and sweet we ignore subtasks"
   ]
  },
  {
   "cell_type": "code",
   "execution_count": 72,
   "id": "06899cf7",
   "metadata": {},
   "outputs": [],
   "source": [
    "class SaveResultToDict:\n",
    "    def __init__(self, data: Dict[str, None]) -> None:\n",
    "        self.data = data\n",
    "\n",
    "    def task_started(self, task: Task) -> None:\n",
    "        self.data[task.name] = {}\n",
    "        self.data[task.name][\"started\"] = True\n",
    "\n",
    "    def task_completed(self, task: Task, result: AggregatedResult) -> None:\n",
    "        self.data[task.name][\"completed\"] = True\n",
    "\n",
    "    def task_instance_started(self, task: Task, host: Host) -> None:\n",
    "        self.data[task.name][host.name] = {\"started\": True}\n",
    "\n",
    "    def task_instance_completed(\n",
    "        self, task: Task, host: Host, result: MultiResult\n",
    "    ) -> None:\n",
    "        self.data[task.name][host.name] = {\n",
    "            \"completed\": True,\n",
    "            \"result\": result.result,\n",
    "        }\n",
    "\n",
    "    def subtask_instance_started(self, task: Task, host: Host) -> None:\n",
    "        pass  # to keep example short and sweet we ignore subtasks\n",
    "\n",
    "    def subtask_instance_completed(\n",
    "        self, task: Task, host: Host, result: MultiResult\n",
    "    ) -> None:\n",
    "        pass  # to keep example short and sweet we ignore subtasks"
   ]
  },
  {
   "cell_type": "code",
   "execution_count": 73,
   "id": "9e5d7639",
   "metadata": {},
   "outputs": [],
   "source": [
    "def greeter(task: Task, greet: str) -> Result:\n",
    "    \"\"\"simple function like say, s.a.\"\"\"\n",
    "    return Result(host=task.host, result=f\"{greet}! my name is {task.host.name}\")"
   ]
  },
  {
   "cell_type": "markdown",
   "id": "e8b85948",
   "metadata": {},
   "source": [
    "+ similary to .filter, with_processors returns a copy of the nornir object but with the processors assigned to it. use the method to assign both processors on both classes created above"
   ]
  },
  {
   "cell_type": "code",
   "execution_count": 74,
   "id": "705cbfa5",
   "metadata": {},
   "outputs": [
    {
     "name": "stdout",
     "output_type": "stream",
     "text": [
      ">>> starting: hi!\u001b[0m\n",
      "\u001b[0m  - host1.cmh: - hi! my name is host1.cmh  - host2.cmh: - hi! my name is host2.cmh\u001b[0m\n",
      "  - spine00.cmh: - hi! my name is spine00.cmh  - spine01.cmh: - hi! my name is spine01.cmh\u001b[0m\n",
      "  - leaf00.cmh: - hi! my name is leaf00.cmh\u001b[0m  - leaf01.cmh: - hi! my name is leaf01.cmh\u001b[0m\n",
      "  - host1.bma: - hi! my name is host1.bma\u001b[0m\n",
      "\u001b[0m  - host2.bma: - hi! my name is host2.bma\u001b[0m\n",
      "\u001b[0m\u001b[0m\n",
      "\u001b[0m\u001b[0m\n",
      "\u001b[0m  - spine00.bma: - hi! my name is spine00.bma\u001b[0m\n",
      "  - spine01.bma: - hi! my name is spine01.bma\u001b[0m  - leaf00.bma: - hi! my name is leaf00.bma  - leaf01.bma: - hi! my name is leaf01.bma\u001b[0m\u001b[0m\u001b[0m\n",
      "\u001b[0m\n",
      "\u001b[0m\n",
      "\u001b[0m\n",
      "\u001b[0m\u001b[0m\u001b[0m\u001b[0m>>> completed: hi!\u001b[0m\n",
      "\u001b[0m>>> starting: bye!\u001b[0m\n",
      "\u001b[0m  - host1.cmh: - bye! my name is host1.cmh  - host2.cmh: - bye! my name is host2.cmh\u001b[0m\n",
      "  - spine00.cmh: - bye! my name is spine00.cmh  - spine01.cmh: - bye! my name is spine01.cmh\u001b[0m\u001b[0m\n",
      "  - leaf00.cmh: - bye! my name is leaf00.cmh\u001b[0m\n",
      "  - leaf01.cmh: - bye! my name is leaf01.cmh  - host1.bma: - bye! my name is host1.bma  - host2.bma: - bye! my name is host2.bma\u001b[0m  - spine00.bma: - bye! my name is spine00.bma\u001b[0m\u001b[0m\n",
      "\u001b[0m\u001b[0m\n",
      "\u001b[0m\n",
      "\n",
      "  - spine01.bma: - bye! my name is spine01.bma\u001b[0m\n",
      "  - leaf00.bma: - bye! my name is leaf00.bma  - leaf01.bma: - bye! my name is leaf01.bma\u001b[0m\u001b[0m\u001b[0m\u001b[0m\n",
      "\u001b[0m\u001b[0m\n",
      "\u001b[0m\n",
      "\u001b[0m\u001b[0m\u001b[0m\u001b[0m\u001b[0m\n",
      "\u001b[0m>>> completed: bye!\u001b[0m\n",
      "\u001b[0m"
     ]
    },
    {
     "data": {
      "text/plain": [
       "AggregatedResult (bye!): {'host1.cmh': MultiResult: [Result: \"bye!\"], 'host2.cmh': MultiResult: [Result: \"bye!\"], 'spine00.cmh': MultiResult: [Result: \"bye!\"], 'spine01.cmh': MultiResult: [Result: \"bye!\"], 'leaf00.cmh': MultiResult: [Result: \"bye!\"], 'leaf01.cmh': MultiResult: [Result: \"bye!\"], 'host1.bma': MultiResult: [Result: \"bye!\"], 'host2.bma': MultiResult: [Result: \"bye!\"], 'spine00.bma': MultiResult: [Result: \"bye!\"], 'spine01.bma': MultiResult: [Result: \"bye!\"], 'leaf00.bma': MultiResult: [Result: \"bye!\"], 'leaf01.bma': MultiResult: [Result: \"bye!\"]}"
      ]
     },
     "execution_count": 74,
     "metadata": {},
     "output_type": "execute_result"
    }
   ],
   "source": [
    "# NBVAL_IGNORE_OUTPUT\n",
    "\n",
    "data = {}  # SaveResultToDict class object will store the information\n",
    "\n",
    "\n",
    "nr_with_processors = nr.with_processors([SaveResultToDict(data), PrintResult()])\n",
    "\n",
    "# now we can use nr_with_processors to execute our greeter task\n",
    "nr_with_processors.run(\n",
    "    name=\"hi!\",\n",
    "    task=greeter,\n",
    "    greet=\"hi\",\n",
    ")\n",
    "nr_with_processors.run(\n",
    "    name=\"bye!\",\n",
    "    task=greeter,\n",
    "    greet=\"bye\",\n",
    ")"
   ]
  },
  {
   "cell_type": "markdown",
   "id": "3f6a35ef",
   "metadata": {},
   "source": [
    "All messages on screen were printed by the processor **PrintResult**.<br>\n",
    "The returned AggregatedResult is not used (needed) it here."
   ]
  },
  {
   "cell_type": "markdown",
   "id": "f0ca6c5e",
   "metadata": {},
   "source": [
    "The **SaveToResults** class saved the data to the **data** dictionary:"
   ]
  },
  {
   "cell_type": "code",
   "execution_count": 75,
   "id": "f93d17c0",
   "metadata": {},
   "outputs": [
    {
     "name": "stdout",
     "output_type": "stream",
     "text": [
      "{\n",
      "    \"hi!\": {\n",
      "        \"started\": true,\n",
      "        \"host1.cmh\": {\n",
      "            \"completed\": true,\n",
      "            \"result\": \"hi! my name is host1.cmh\"\n",
      "        },\n",
      "        \"host2.cmh\": {\n",
      "            \"completed\": true,\n",
      "            \"result\": \"hi! my name is host2.cmh\"\n",
      "        },\n",
      "        \"spine00.cmh\": {\n",
      "            \"completed\": true,\n",
      "            \"result\": \"hi! my name is spine00.cmh\"\n",
      "        },\n",
      "        \"spine01.cmh\": {\n",
      "            \"completed\": true,\n",
      "            \"result\": \"hi! my name is spine01.cmh\"\n",
      "        },\n",
      "        \"leaf00.cmh\": {\n",
      "            \"completed\": true,\n",
      "            \"result\": \"hi! my name is leaf00.cmh\"\n",
      "        },\n",
      "        \"leaf01.cmh\": {\n",
      "            \"completed\": true,\n",
      "            \"result\": \"hi! my name is leaf01.cmh\"\n",
      "        },\n",
      "        \"host1.bma\": {\n",
      "            \"completed\": true,\n",
      "            \"result\": \"hi! my name is host1.bma\"\n",
      "        },\n",
      "        \"host2.bma\": {\n",
      "            \"completed\": true,\n",
      "            \"result\": \"hi! my name is host2.bma\"\n",
      "        },\n",
      "        \"spine00.bma\": {\n",
      "            \"completed\": true,\n",
      "            \"result\": \"hi! my name is spine00.bma\"\n",
      "        },\n",
      "        \"spine01.bma\": {\n",
      "            \"completed\": true,\n",
      "            \"result\": \"hi! my name is spine01.bma\"\n",
      "        },\n",
      "        \"leaf00.bma\": {\n",
      "            \"completed\": true,\n",
      "            \"result\": \"hi! my name is leaf00.bma\"\n",
      "        },\n",
      "        \"leaf01.bma\": {\n",
      "            \"completed\": true,\n",
      "            \"result\": \"hi! my name is leaf01.bma\"\n",
      "        },\n",
      "        \"completed\": true\n",
      "    },\n",
      "    \"bye!\": {\n",
      "        \"started\": true,\n",
      "        \"host1.cmh\": {\n",
      "            \"completed\": true,\n",
      "            \"result\": \"bye! my name is host1.cmh\"\n",
      "        },\n",
      "        \"host2.cmh\": {\n",
      "            \"completed\": true,\n",
      "            \"result\": \"bye! my name is host2.cmh\"\n",
      "        },\n",
      "        \"spine00.cmh\": {\n",
      "            \"completed\": true,\n",
      "            \"result\": \"bye! my name is spine00.cmh\"\n",
      "        },\n",
      "        \"spine01.cmh\": {\n",
      "            \"completed\": true,\n",
      "            \"result\": \"bye! my name is spine01.cmh\"\n",
      "        },\n",
      "        \"leaf00.cmh\": {\n",
      "            \"completed\": true,\n",
      "            \"result\": \"bye! my name is leaf00.cmh\"\n",
      "        },\n",
      "        \"leaf01.cmh\": {\n",
      "            \"completed\": true,\n",
      "            \"result\": \"bye! my name is leaf01.cmh\"\n",
      "        },\n",
      "        \"host1.bma\": {\n",
      "            \"completed\": true,\n",
      "            \"result\": \"bye! my name is host1.bma\"\n",
      "        },\n",
      "        \"host2.bma\": {\n",
      "            \"completed\": true,\n",
      "            \"result\": \"bye! my name is host2.bma\"\n",
      "        },\n",
      "        \"spine00.bma\": {\n",
      "            \"completed\": true,\n",
      "            \"result\": \"bye! my name is spine00.bma\"\n",
      "        },\n",
      "        \"spine01.bma\": {\n",
      "            \"completed\": true,\n",
      "            \"result\": \"bye! my name is spine01.bma\"\n",
      "        },\n",
      "        \"leaf00.bma\": {\n",
      "            \"completed\": true,\n",
      "            \"result\": \"bye! my name is leaf00.bma\"\n",
      "        },\n",
      "        \"leaf01.bma\": {\n",
      "            \"completed\": true,\n",
      "            \"result\": \"bye! my name is leaf01.bma\"\n",
      "        },\n",
      "        \"completed\": true\n",
      "    }\n",
      "}\u001b[0m\n",
      "\u001b[0m"
     ]
    }
   ],
   "source": [
    "import json\n",
    "print(json.dumps(data, indent=4))"
   ]
  },
  {
   "cell_type": "code",
   "execution_count": 76,
   "id": "1d8edfbc",
   "metadata": {},
   "outputs": [
    {
     "data": {
      "text/plain": [
       "{'completed': True, 'result': 'hi! my name is host1.cmh'}"
      ]
     },
     "execution_count": 76,
     "metadata": {},
     "output_type": "execute_result"
    }
   ],
   "source": [
    "data[\"hi!\"][\"host1.cmh\"]"
   ]
  },
  {
   "cell_type": "markdown",
   "id": "b9156a0d",
   "metadata": {},
   "source": [
    "[top](#top_of_page)"
   ]
  }
 ],
 "metadata": {
  "kernelspec": {
   "display_name": "Python 3 (ipykernel)",
   "language": "python",
   "name": "python3"
  },
  "language_info": {
   "codemirror_mode": {
    "name": "ipython",
    "version": 3
   },
   "file_extension": ".py",
   "mimetype": "text/x-python",
   "name": "python",
   "nbconvert_exporter": "python",
   "pygments_lexer": "ipython3",
   "version": "3.9.13"
  },
  "toc": {
   "base_numbering": 1,
   "nav_menu": {},
   "number_sections": false,
   "sideBar": true,
   "skip_h1_title": true,
   "title_cell": "Table of Contents",
   "title_sidebar": "Contents",
   "toc_cell": false,
   "toc_position": {
    "height": "calc(100% - 180px)",
    "left": "10px",
    "top": "150px",
    "width": "426.667px"
   },
   "toc_section_display": true,
   "toc_window_display": true
  },
  "varInspector": {
   "cols": {
    "lenName": 16,
    "lenType": 16,
    "lenVar": 40
   },
   "kernels_config": {
    "python": {
     "delete_cmd_postfix": "",
     "delete_cmd_prefix": "del ",
     "library": "var_list.py",
     "varRefreshCmd": "print(var_dic_list())"
    },
    "r": {
     "delete_cmd_postfix": ") ",
     "delete_cmd_prefix": "rm(",
     "library": "var_list.r",
     "varRefreshCmd": "cat(var_dic_list()) "
    }
   },
   "types_to_exclude": [
    "module",
    "function",
    "builtin_function_or_method",
    "instance",
    "_Feature"
   ],
   "window_display": false
  }
 },
 "nbformat": 4,
 "nbformat_minor": 5
}
